{
 "cells": [
  {
   "cell_type": "code",
   "execution_count": 2,
   "id": "b0734319-cd6d-4c30-bc8e-aaad2b874be0",
   "metadata": {},
   "outputs": [],
   "source": [
    "import numpy as np"
   ]
  },
  {
   "cell_type": "code",
   "execution_count": 9,
   "id": "d31c39b6-1d17-4f35-9ceb-99ee4f8cd542",
   "metadata": {},
   "outputs": [
    {
     "data": {
      "text/plain": [
       "array([1., 1.])"
      ]
     },
     "execution_count": 9,
     "metadata": {},
     "output_type": "execute_result"
    }
   ],
   "source": [
    "np.ones(2)"
   ]
  },
  {
   "cell_type": "code",
   "execution_count": 13,
   "id": "30e428b4-66e3-4817-862a-c8003ef394d5",
   "metadata": {},
   "outputs": [
    {
     "data": {
      "text/plain": [
       "0.2619718309859155"
      ]
     },
     "execution_count": 13,
     "metadata": {},
     "output_type": "execute_result"
    }
   ],
   "source": [
    "1 + (0.000186 - 0.000710) / 0.000710"
   ]
  },
  {
   "cell_type": "code",
   "execution_count": 14,
   "id": "8e2f602a-5fda-4708-8657-05e96198c752",
   "metadata": {},
   "outputs": [
    {
     "data": {
      "text/plain": [
       "0.00018460000000000001"
      ]
     },
     "execution_count": 14,
     "metadata": {},
     "output_type": "execute_result"
    }
   ],
   "source": [
    "0.26*0.000710"
   ]
  },
  {
   "cell_type": "code",
   "execution_count": 15,
   "id": "7982a98e-9939-4420-bf4d-5d4cbc945519",
   "metadata": {},
   "outputs": [
    {
     "data": {
      "text/plain": [
       "3.817204301075269"
      ]
     },
     "execution_count": 15,
     "metadata": {},
     "output_type": "execute_result"
    }
   ],
   "source": [
    "0.000710 / 0.000186"
   ]
  },
  {
   "cell_type": "code",
   "execution_count": null,
   "id": "a89b5792-a385-4585-8dc0-61073bd37071",
   "metadata": {},
   "outputs": [],
   "source": []
  }
 ],
 "metadata": {
  "kernelspec": {
   "display_name": "Python 3 (ipykernel)",
   "language": "python",
   "name": "python3"
  },
  "language_info": {
   "codemirror_mode": {
    "name": "ipython",
    "version": 3
   },
   "file_extension": ".py",
   "mimetype": "text/x-python",
   "name": "python",
   "nbconvert_exporter": "python",
   "pygments_lexer": "ipython3",
   "version": "3.7.2"
  }
 },
 "nbformat": 4,
 "nbformat_minor": 5
}
