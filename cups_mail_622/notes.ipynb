{
 "cells": [
  {
   "cell_type": "code",
   "execution_count": 1,
   "id": "25d858dd",
   "metadata": {
    "cellId": "uh7rahc8xrbpnfwcunb9nh"
   },
   "outputs": [],
   "source": [
    "import os\n",
    "import lib\n",
    "\n",
    "import numpy as np\n",
    "import pandas as pd \n",
    "\n",
    "from PIL import Image\n",
    "from matplotlib import pyplot as plt\n",
    "\n",
    "from collections import OrderedDict\n",
    "\n",
    "import torch\n",
    "import torch.nn as nn\n",
    "import torch.optim as optim\n",
    "\n",
    "from torchvision import datasets, transforms, models\n",
    "from torch.utils.data import DataLoader, random_split"
   ]
  },
  {
   "cell_type": "code",
   "execution_count": 2,
   "id": "c4f9f04e",
   "metadata": {
    "cellId": "pe3ccxvsb1jbsuq9lcjrm"
   },
   "outputs": [],
   "source": [
    "SEED = 42\n",
    "VL_SIZE = 0.2"
   ]
  },
  {
   "cell_type": "code",
   "execution_count": 3,
   "id": "20f8c0b0",
   "metadata": {
    "cellId": "1v380ch4116i28t2nk0wl9"
   },
   "outputs": [],
   "source": [
    "mean = [0.485, 0.456, 0.406]\n",
    "std = [0.229, 0.224, 0.225]\n",
    "\n",
    "learn_transform = transforms.Compose([\n",
    "                                transforms.Resize(255),\n",
    "                                transforms.RandomHorizontalFlip(),\n",
    "                                transforms.ColorJitter(),\n",
    "                                transforms.ToTensor(),\n",
    "                                transforms.Normalize(mean, std)])\n",
    "\n",
    "test_transform = transforms.Compose([\n",
    "                                transforms.Resize(255),\n",
    "                                transforms.ColorJitter(),\n",
    "                                transforms.ToTensor(),\n",
    "                                transforms.Normalize(mean, std)])\n",
    "\n",
    "\n",
    "learn_data = datasets.ImageFolder('./data/train', transform=learn_transform)\n",
    "splits = [ int((1-VL_SIZE)*len(learn_data)), int((VL_SIZE)*len(learn_data)) ]\n",
    "\n",
    "tr_data, vl_data = random_split(learn_data, splits, generator=torch.Generator().manual_seed(SEED))\n",
    "\n",
    "tr_loader = DataLoader(tr_data, batch_size=64, shuffle=True)\n",
    "vl_loader = DataLoader(vl_data, batch_size=64, shuffle=True)"
   ]
  },
  {
   "cell_type": "code",
   "execution_count": 4,
   "id": "a197a7f6",
   "metadata": {
    "cellId": "s0sqtc39d2hq9us31kr82h"
   },
   "outputs": [
    {
     "name": "stderr",
     "output_type": "stream",
     "text": [
      "Downloading: \"https://download.pytorch.org/models/densenet161-8d451a50.pth\" to /tmp/xdg_cache/torch/hub/checkpoints/densenet161-8d451a50.pth\n"
     ]
    },
    {
     "data": {
      "application/vnd.jupyter.widget-view+json": {
       "model_id": "e67d238987d94915a8c3bfa0c7c154d3",
       "version_major": 2,
       "version_minor": 0
      },
      "text/plain": [
       "HBox(children=(HTML(value=''), FloatProgress(value=0.0, max=115730790.0), HTML(value='')))"
      ]
     },
     "metadata": {},
     "output_type": "display_data"
    },
    {
     "name": "stdout",
     "output_type": "stream",
     "text": [
      "\n"
     ]
    },
    {
     "data": {
      "text/plain": [
       "Linear(in_features=2208, out_features=1000, bias=True)"
      ]
     },
     "metadata": {},
     "output_type": "display_data"
    }
   ],
   "source": [
    "model = models.densenet161(pretrained=True)\n",
    "model.classifier"
   ]
  },
  {
   "cell_type": "code",
   "execution_count": 5,
   "id": "1e2543cd",
   "metadata": {
    "cellId": "tlmq9os2inlasjt0yzwf"
   },
   "outputs": [],
   "source": [
    "model = lib.freeze_parameters(model)"
   ]
  },
  {
   "cell_type": "code",
   "execution_count": 6,
   "id": "f29f1a07",
   "metadata": {
    "cellId": "5o0dre6cu2fdlwoikuu9ih"
   },
   "outputs": [
    {
     "data": {
      "text/plain": [
       "Sequential(\n",
       "  (0): Linear(in_features=2208, out_features=2208, bias=True)\n",
       "  (1): ReLU()\n",
       "  (2): Dropout(p=0.4, inplace=False)\n",
       "  (3): Linear(in_features=2208, out_features=1024, bias=True)\n",
       "  (4): ReLU()\n",
       "  (5): Dropout(p=0.3, inplace=False)\n",
       "  (6): Linear(in_features=1024, out_features=10, bias=True)\n",
       "  (7): LogSoftmax(dim=1)\n",
       ")"
      ]
     },
     "metadata": {},
     "output_type": "display_data"
    }
   ],
   "source": [
    "classifier = nn.Sequential(\n",
    "  nn.Linear(in_features=2208, out_features=2208),\n",
    "  nn.ReLU(),\n",
    "  nn.Dropout(p=0.4),\n",
    "  nn.Linear(in_features=2208, out_features=1024),\n",
    "  nn.ReLU(),\n",
    "  nn.Dropout(p=0.3),\n",
    "  nn.Linear(in_features=1024, out_features=10),\n",
    "  nn.LogSoftmax(dim=1)  \n",
    ")\n",
    "    \n",
    "model.classifier = classifier\n",
    "model.classifier"
   ]
  },
  {
   "cell_type": "code",
   "execution_count": 7,
   "id": "eb4de30f",
   "metadata": {
    "cellId": "h8ggizk3ikbfnsh8s5jwi"
   },
   "outputs": [
    {
     "name": "stdout",
     "output_type": "stream",
     "text": [
      "Epoch: 1/10\n",
      "\t\tGoing for validation\n",
      "\tTrain loss:0.369909.. \tValid Loss:0.275122.. \tAccuracy: 88.8835\n",
      "\tValidation loss decreased (inf --> 0.275122).  Saving model ...\n",
      "\tEpoch:1 completed in 3m 11s\n",
      "Epoch: 2/10\n",
      "\t\tGoing for validation\n",
      "\tTrain loss:0.294544.. \tValid Loss:0.266825.. \tAccuracy: 89.9775\n",
      "\tValidation loss decreased (0.275122 --> 0.266825).  Saving model ...\n",
      "\tEpoch:2 completed in 2m 52s\n",
      "Epoch: 3/10\n",
      "\t\tGoing for validation\n",
      "\tTrain loss:0.271831.. \tValid Loss:0.228912.. \tAccuracy: 90.8623\n",
      "\tValidation loss decreased (0.266825 --> 0.228912).  Saving model ...\n",
      "\tEpoch:3 completed in 2m 52s\n",
      "Epoch: 4/10\n",
      "\t\tGoing for validation\n",
      "\tTrain loss:0.285372.. \tValid Loss:0.233383.. \tAccuracy: 90.9266\n",
      "\tEpoch:4 completed in 2m 51s\n",
      "Epoch: 5/10\n",
      "\t\tGoing for validation\n",
      "\tTrain loss:0.255457.. \tValid Loss:0.252152.. \tAccuracy: 89.3501\n",
      "\tEpoch:5 completed in 2m 50s\n",
      "Epoch: 6/10\n",
      "\t\tGoing for validation\n",
      "\tTrain loss:0.270462.. \tValid Loss:0.246234.. \tAccuracy: 90.1544\n",
      "\tEpoch:6 completed in 2m 51s\n",
      "Epoch: 7/10\n",
      "\t\tGoing for validation\n",
      "\tTrain loss:0.250323.. \tValid Loss:0.229200.. \tAccuracy: 91.2323\n",
      "\tEpoch:7 completed in 2m 51s\n",
      "Epoch: 8/10\n",
      "\t\tGoing for validation\n",
      "\tTrain loss:0.262528.. \tValid Loss:0.254894.. \tAccuracy: 90.6210\n",
      "\tEpoch:8 completed in 2m 50s\n",
      "Epoch: 9/10\n",
      "\t\tGoing for validation\n",
      "\tTrain loss:0.273741.. \tValid Loss:0.252147.. \tAccuracy: 91.1036\n",
      "\tEpoch:9 completed in 2m 50s\n",
      "Epoch: 10/10\n",
      "\t\tGoing for validation\n",
      "\tTrain loss:0.266050.. \tValid Loss:0.218184.. \tAccuracy: 91.1840\n",
      "\tValidation loss decreased (0.228912 --> 0.218184).  Saving model ...\n",
      "\tEpoch:10 completed in 2m 50s\n",
      "Training completed in 28m 47s\n"
     ]
    }
   ],
   "source": [
    "#!g1.1\n",
    "epoch = 5+5\n",
    "\n",
    "device = torch.device(\"cuda\" if torch.cuda.is_available() else \"cpu\")\n",
    "model.to(device)\n",
    "\n",
    "criterion = nn.NLLLoss()\n",
    "optimizer = optim.Adam(model.classifier.parameters(), lr=0.003)\n",
    "\n",
    "model, train_loss, test_loss = lib.train(model, tr_loader, vl_loader, epoch, optimizer, criterion)"
   ]
  },
  {
   "cell_type": "code",
   "execution_count": 8,
   "id": "d824968f",
   "metadata": {
    "cellId": "62uqcyp4r27ixnigs43cd"
   },
   "outputs": [],
   "source": [
    "#!g1.1\n",
    "model = lib.load_latest_model(model)"
   ]
  },
  {
   "cell_type": "code",
   "execution_count": 9,
   "id": "36daef23",
   "metadata": {
    "cellId": "bak35cgdar0vzayzpb9p5h"
   },
   "outputs": [
    {
     "data": {
      "image/png": "[encoded data removed]",
      "text/plain": [
       "<Figure size 432x288 with 1 Axes>"
      ]
     },
     "metadata": {
      "needs_background": "light"
     },
     "output_type": "display_data"
    }
   ],
   "source": [
    "lib.check_overfitted(train_loss, test_loss)"
   ]
  },
  {
   "cell_type": "code",
   "execution_count": 10,
   "id": "ec2a2790",
   "metadata": {
    "cellId": "kzc9x4tdfj27vnjljl35j"
   },
   "outputs": [],
   "source": [
    "def test(file):\n",
    "    ids = {'airplane': 0, 'not_airplane': 1}\n",
    "    with Image.open(file) as f:\n",
    "        \n",
    "        img = test_transform(f).unsqueeze(0)\n",
    "        with torch.no_grad():\n",
    "            out = model(img.to(device)).cpu().numpy()\n",
    "            for key, value in ids.items():\n",
    "                if value == np.argmax(out):\n",
    "                    #name = classes[int(key)]\n",
    "                    return value"
   ]
  },
  {
   "cell_type": "code",
   "execution_count": 11,
   "id": "4d9180e6",
   "metadata": {
    "cellId": "8qgm09o9o2hlzd2h18pun"
   },
   "outputs": [
    {
     "name": "stdout",
     "output_type": "stream",
     "text": [
      "(20, 20, 4)\n"
     ]
    },
    {
     "data": {
      "image/png": "[encoded data removed]",
      "text/plain": [
       "<Figure size 432x288 with 1 Axes>"
      ]
     },
     "metadata": {
      "needs_background": "light"
     },
     "output_type": "display_data"
    }
   ],
   "source": [
    "name = '73391958-6b88-40a5-9191-5386b7925b40'\n",
    "data_dir = './data/test/{}.png'\n",
    "path = data_dir.format(name)\n",
    "\n",
    "with Image.open(path) as f:\n",
    "    print(np.array(f).shape)\n",
    "    plt.imshow(np.array(f))\n",
    "    plt.show()"
   ]
  },
  {
   "cell_type": "code",
   "execution_count": 12,
   "id": "841b1353",
   "metadata": {
    "cellId": "t57ozii12lw65lwr7z4u"
   },
   "outputs": [],
   "source": [
    "sumb = pd.read_csv('./data/sample_submission.csv')"
   ]
  },
  {
   "cell_type": "code",
   "execution_count": 13,
   "id": "c797229a",
   "metadata": {
    "cellId": "e1lh3t69rogd2rvg9bn6rt"
   },
   "outputs": [],
   "source": [
    "def predict(s):\n",
    "    name = s['filename']\n",
    "    data_dir = './data/test/{}.png'\n",
    "    path = data_dir.format(name)\n",
    "    try:\n",
    "        pred = test(path)\n",
    "    except RuntimeError:\n",
    "        print(name)\n",
    "        pred = 0\n",
    "\n",
    "    return pred"
   ]
  },
  {
   "cell_type": "code",
   "execution_count": 14,
   "id": "452e5863",
   "metadata": {
    "cellId": "vezrs6zsgd16w8y9f3yt9"
   },
   "outputs": [
    {
     "name": "stdout",
     "output_type": "stream",
     "text": [
      "73391958-6b88-40a5-9191-5386b7925b40\n",
      "b4f16723-149f-4179-a258-97b52442de74\n",
      "93a5da1c-3aea-44aa-9240-96cb8ed18994\n",
      "103c3b34-63b6-4a2f-a2f8-a6eb85c5be11\n",
      "71da2b41-4bbf-420b-b5ad-8f5352af0c50\n",
      "773d6063-5dd0-44f6-b5c1-4409b1e4b6c8\n",
      "3f895e00-8843-4eed-96ac-a22e8cad699e\n",
      "43af096e-2776-43f4-bc44-457fc3e33bba\n",
      "1e3baecb-49ef-456c-9c4c-cdf164b1faca\n",
      "176a953d-959f-416e-b6da-c47b3ff1e0f5\n",
      "9e0a7a8e-5412-4792-aeb1-cea4e12ea666\n",
      "81d83894-0e6f-431a-9971-583f99d94ab9\n",
      "b09197a8-64ad-436b-9dba-fe2d0d3c7077\n",
      "e33ca568-3517-4c8f-b96d-3eaaf025295d\n",
      "1bfd9c52-d8f9-496f-a0db-765eb8cd706e\n",
      "5e286847-3698-4048-b245-70aa4109afa6\n",
      "0c24093c-0d2c-4efd-9c29-c0a138946d70\n",
      "7ab51a9c-0fb9-40f5-bbe6-76370031faf4\n",
      "9674f377-915c-4059-8a89-2771a51b845d\n",
      "475adc32-815a-4f06-ae6a-61a992c42fbd\n",
      "4477ec27-4808-4a77-991e-5048a124095b\n",
      "dfd9000d-4100-448e-8c28-242d0ae24dcd\n",
      "01cf8479-f165-497d-9669-e7ad9fad33d5\n",
      "40ef19b7-f908-4a73-a84b-a6a9e5417b30\n",
      "fac2c36e-6395-44cc-ab73-d01f813eb605\n",
      "397b4845-0de8-4a83-9074-a945b85e39b9\n",
      "92c3951e-ab05-492f-90e8-ece27ffe3efa\n",
      "cba2e377-1120-45b3-9f9e-1a26f12a7b0b\n",
      "8184f255-2bf3-4d16-9cf5-e5296df8db9f\n",
      "de5f8bed-6a9b-4ece-9c57-345e923def22\n",
      "964624c7-4e79-4c9e-a86b-bd99678618b9\n",
      "61d5b980-b2f1-4314-ac9f-3fc19bcc4924\n",
      "83f5c499-358b-4c88-8065-40409fc28281\n",
      "073d35e0-f95e-491c-a190-7d5ab552c3ef\n",
      "0c2eb4b7-a85a-4807-a4e4-4491748a390d\n",
      "b1bbcdda-b279-4758-b61e-ea037a938745\n",
      "652419d4-fad5-47f0-bde8-66b376ed311b\n",
      "863ef7b1-8282-48e6-b777-c4f3da15b403\n",
      "0664e6a4-610a-4c97-b5e2-b05177de7163\n",
      "52ee5526-930d-4efc-b7bc-afe56d970278\n",
      "e8764332-4d6e-4d7b-ab72-6c6b8c107bb1\n",
      "b7cb6965-b63e-41e7-906f-2305176ab716\n",
      "e42c0702-e144-4ef9-af2b-0e0065f49378\n",
      "90952d65-f789-4d4c-abf6-71789a080b1b\n",
      "e6d95799-8c48-4a79-ba2a-09b985447158\n",
      "67d6890e-3de7-4366-b267-915f9b3ff02a\n",
      "2e82a554-98f6-456f-968a-706134810114\n",
      "618bc079-3baf-4f21-b92e-756d4ab38b83\n",
      "c79a5362-30cc-49c2-9faa-dc4577df8825\n",
      "ebfaea85-562d-4b78-baa2-13f7622535f3\n",
      "92188a26-cfe7-41cc-b84a-729a89c3afc6\n",
      "fd08f9af-0bc8-4462-b4e9-3e77a783b49c\n",
      "f4c0f480-725d-4002-961c-703586636e55\n",
      "8d2f424c-d3ee-4641-a375-720694659f10\n",
      "d07b43d9-054a-4752-a3c8-ae8c780874a3\n",
      "3d231bb9-23d8-48f0-8545-44526608cd04\n",
      "71586e2b-f9c6-41c6-a26b-acb10eeaee32\n",
      "d70c0d57-6f62-41b1-9e1a-a6ac76118ea5\n",
      "1958ee34-cccd-4fe4-8038-4402736ae7fe\n",
      "2f423502-eb92-4123-b4b9-cbaaa6c01261\n"
     ]
    }
   ],
   "source": [
    "#!g1.1\n",
    "preds = sumb[:].apply(predict, axis=1)"
   ]
  },
  {
   "cell_type": "code",
   "execution_count": 15,
   "id": "cbc7a4a3",
   "metadata": {
    "cellId": "pgcmvbo762qnktbqj2fwqk"
   },
   "outputs": [],
   "source": [
    "sumb['sign'] = -1 * (preds.values - 1)"
   ]
  },
  {
   "cell_type": "code",
   "execution_count": 16,
   "id": "eb1eca18",
   "metadata": {
    "cellId": "5ciomklnvuq6tlhfsuat"
   },
   "outputs": [],
   "source": [
    "sumb.to_csv('./data/submission.csv', index=False)"
   ]
  },
  {
   "cell_type": "code",
   "execution_count": null,
   "id": "9cc39a12",
   "metadata": {
    "cellId": "w2177o0i6z8e42dohnrpv"
   },
   "outputs": [],
   "source": []
  }
 ],
 "metadata": {
  "kernelspec": {
   "display_name": "Python 3 (ipykernel)",
   "language": "python",
   "name": "python3"
  },
  "language_info": {
   "codemirror_mode": {
    "name": "ipython",
    "version": 3
   },
   "file_extension": ".py",
   "mimetype": "text/x-python",
   "name": "python",
   "nbconvert_exporter": "python",
   "pygments_lexer": "ipython3",
   "version": "3.7.2"
  },
  "notebookId": "3dcd36f5-785f-4dd3-be6f-e95424030bf1"
 },
 "nbformat": 4,
 "nbformat_minor": 5
}
